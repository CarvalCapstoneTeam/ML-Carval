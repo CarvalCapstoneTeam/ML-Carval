{
  "metadata": {
    "kernelspec": {
      "language": "python",
      "display_name": "Python 3",
      "name": "python3"
    },
    "language_info": {
      "pygments_lexer": "ipython3",
      "nbconvert_exporter": "python",
      "version": "3.6.4",
      "file_extension": ".py",
      "codemirror_mode": {
        "name": "ipython",
        "version": 3
      },
      "name": "python",
      "mimetype": "text/x-python"
    },
    "colab": {
      "provenance": [],
      "include_colab_link": true
    }
  },
  "nbformat_minor": 0,
  "nbformat": 4,
  "cells": [
    {
      "cell_type": "markdown",
      "metadata": {
        "id": "view-in-github",
        "colab_type": "text"
      },
      "source": [
        "<a href=\"https://colab.research.google.com/github/CarvalCapstoneTeam/ML-Carval/blob/main/CarVal.ipynb\" target=\"_parent\"><img src=\"https://colab.research.google.com/assets/colab-badge.svg\" alt=\"Open In Colab\"/></a>"
      ]
    },
    {
      "cell_type": "code",
      "source": [
        "!pip install catboost"
      ],
      "metadata": {
        "colab": {
          "base_uri": "https://localhost:8080/"
        },
        "id": "6mZK8UGM_LuF",
        "outputId": "a66cb97b-b19b-4e2d-e0b7-e125c6319116"
      },
      "execution_count": null,
      "outputs": [
        {
          "output_type": "stream",
          "name": "stdout",
          "text": [
            "Collecting catboost\n",
            "  Downloading catboost-1.2.2-cp310-cp310-manylinux2014_x86_64.whl (98.7 MB)\n",
            "\u001b[2K     \u001b[90m━━━━━━━━━━━━━━━━━━━━━━━━━━━━━━━━━━━━━━━━\u001b[0m \u001b[32m98.7/98.7 MB\u001b[0m \u001b[31m8.2 MB/s\u001b[0m eta \u001b[36m0:00:00\u001b[0m\n",
            "\u001b[?25hRequirement already satisfied: graphviz in /usr/local/lib/python3.10/dist-packages (from catboost) (0.20.1)\n",
            "Requirement already satisfied: matplotlib in /usr/local/lib/python3.10/dist-packages (from catboost) (3.7.1)\n",
            "Requirement already satisfied: numpy>=1.16.0 in /usr/local/lib/python3.10/dist-packages (from catboost) (1.23.5)\n",
            "Requirement already satisfied: pandas>=0.24 in /usr/local/lib/python3.10/dist-packages (from catboost) (1.5.3)\n",
            "Requirement already satisfied: scipy in /usr/local/lib/python3.10/dist-packages (from catboost) (1.11.4)\n",
            "Requirement already satisfied: plotly in /usr/local/lib/python3.10/dist-packages (from catboost) (5.15.0)\n",
            "Requirement already satisfied: six in /usr/local/lib/python3.10/dist-packages (from catboost) (1.16.0)\n",
            "Requirement already satisfied: python-dateutil>=2.8.1 in /usr/local/lib/python3.10/dist-packages (from pandas>=0.24->catboost) (2.8.2)\n",
            "Requirement already satisfied: pytz>=2020.1 in /usr/local/lib/python3.10/dist-packages (from pandas>=0.24->catboost) (2023.3.post1)\n",
            "Requirement already satisfied: contourpy>=1.0.1 in /usr/local/lib/python3.10/dist-packages (from matplotlib->catboost) (1.2.0)\n",
            "Requirement already satisfied: cycler>=0.10 in /usr/local/lib/python3.10/dist-packages (from matplotlib->catboost) (0.12.1)\n",
            "Requirement already satisfied: fonttools>=4.22.0 in /usr/local/lib/python3.10/dist-packages (from matplotlib->catboost) (4.45.1)\n",
            "Requirement already satisfied: kiwisolver>=1.0.1 in /usr/local/lib/python3.10/dist-packages (from matplotlib->catboost) (1.4.5)\n",
            "Requirement already satisfied: packaging>=20.0 in /usr/local/lib/python3.10/dist-packages (from matplotlib->catboost) (23.2)\n",
            "Requirement already satisfied: pillow>=6.2.0 in /usr/local/lib/python3.10/dist-packages (from matplotlib->catboost) (9.4.0)\n",
            "Requirement already satisfied: pyparsing>=2.3.1 in /usr/local/lib/python3.10/dist-packages (from matplotlib->catboost) (3.1.1)\n",
            "Requirement already satisfied: tenacity>=6.2.0 in /usr/local/lib/python3.10/dist-packages (from plotly->catboost) (8.2.3)\n",
            "Installing collected packages: catboost\n",
            "Successfully installed catboost-1.2.2\n"
          ]
        }
      ]
    },
    {
      "cell_type": "code",
      "source": [
        "!pip install keras"
      ],
      "metadata": {
        "colab": {
          "base_uri": "https://localhost:8080/"
        },
        "id": "n7v2MkWyABAE",
        "outputId": "daa1bbde-882e-4510-f2cd-65d6bfc8e95c"
      },
      "execution_count": null,
      "outputs": [
        {
          "output_type": "stream",
          "name": "stdout",
          "text": [
            "Requirement already satisfied: keras in /usr/local/lib/python3.10/dist-packages (2.14.0)\n"
          ]
        }
      ]
    },
    {
      "cell_type": "code",
      "source": [
        "# This Python 3 environment comes with many helpful analytics libraries installed\n",
        "# It is defined by the kaggle/python Docker image: https://github.com/kaggle/docker-python\n",
        "# For example, here's several helpful packages to load\n",
        "\n",
        "import numpy as np # linear algebra\n",
        "import pandas as pd # data processing, CSV file I/O (e.g. pd.read_csv)\n",
        "\n",
        "# Input data files are available in the read-only \"../input/\" directory\n",
        "# For example, running this (by clicking run or pressing Shift+Enter) will list all files under the input directory\n",
        "\n",
        "import os\n",
        "for dirname, _, filenames in os.walk('/content'):\n",
        "    for filename in filenames:\n",
        "        print(os.path.join(dirname, filename))\n",
        "\n",
        "# You can write up to 5GB to the current directory (/kaggle/working/) that gets preserved as output when you create a version using \"Save & Run All\"\n",
        "# You can also write temporary files to /kaggle/temp/, but they won't be saved outside of the current session"
      ],
      "metadata": {
        "execution": {
          "iopub.status.busy": "2022-01-15T11:09:53.273619Z",
          "iopub.execute_input": "2022-01-15T11:09:53.274575Z",
          "iopub.status.idle": "2022-01-15T11:09:53.291054Z",
          "shell.execute_reply.started": "2022-01-15T11:09:53.274509Z",
          "shell.execute_reply": "2022-01-15T11:09:53.290165Z"
        },
        "trusted": true,
        "id": "eCAdobfl4moG",
        "colab": {
          "base_uri": "https://localhost:8080/"
        },
        "outputId": "f399f6c6-cf05-4704-bd33-180acd1a2ba2"
      },
      "execution_count": null,
      "outputs": [
        {
          "output_type": "stream",
          "name": "stdout",
          "text": [
            "/content/.config/gce\n",
            "/content/.config/default_configs.db\n",
            "/content/.config/active_config\n",
            "/content/.config/.last_update_check.json\n",
            "/content/.config/.last_survey_prompt.yaml\n",
            "/content/.config/config_sentinel\n",
            "/content/.config/.last_opt_in_prompt.yaml\n",
            "/content/.config/configurations/config_default\n",
            "/content/.config/logs/2023.11.30/14.24.29.678035.log\n",
            "/content/.config/logs/2023.11.30/14.21.35.326164.log\n",
            "/content/.config/logs/2023.11.30/14.27.28.291696.log\n",
            "/content/.config/logs/2023.11.30/14.24.39.396978.log\n",
            "/content/.config/logs/2023.11.30/14.27.38.299831.log\n",
            "/content/.config/logs/2023.11.30/14.27.39.135357.log\n",
            "/content/sample_data/anscombe.json\n",
            "/content/sample_data/README.md\n",
            "/content/sample_data/mnist_train_small.csv\n",
            "/content/sample_data/california_housing_train.csv\n",
            "/content/sample_data/mnist_test.csv\n",
            "/content/sample_data/california_housing_test.csv\n"
          ]
        }
      ]
    },
    {
      "cell_type": "code",
      "source": [
        "import numpy as np\n",
        "import pandas as pd\n",
        "import os\n",
        "import matplotlib.pyplot as plt\n",
        "import seaborn as sns\n",
        "color = sns.color_palette()\n",
        "import matplotlib as mpl\n",
        "%matplotlib inline\n",
        "from sklearn import preprocessing as рр\n",
        "from scipy.stats import pearsonr\n",
        "from sklearn.model_selection import train_test_split, StratifiedKFold\n",
        "from sklearn.metrics import precision_recall_curve, average_precision_score, log_loss\n",
        "from sklearn.metrics import roc_curve, auc, roc_auc_score, accuracy_score\n",
        "from sklearn.metrics import confusion_matrix, classification_report\n",
        "from sklearn.linear_model import LogisticRegression, SGDClassifier\n",
        "from sklearn.tree import DecisionTreeClassifier\n",
        "from sklearn.experimental import enable_hist_gradient_boosting\n",
        "from sklearn.ensemble import (RandomForestClassifier,\n",
        "                              AdaBoostClassifier,\n",
        "                              GradientBoostingClassifier,\n",
        "                              HistGradientBoostingClassifier)\n",
        "import lightgbm as lgb\n",
        "from lightgbm import LGBMClassifier\n",
        "import xgboost as xgb\n",
        "import nltk\n",
        "from nltk.tokenize import RegexpTokenizer\n",
        "from nltk.stem import WordNetLemmatizer\n",
        "import keras\n",
        "from keras.models import Sequential\n",
        "from keras import layers\n",
        "from keras.preprocessing.text import Tokenizer\n",
        "from keras.preprocessing.sequence import pad_sequences\n",
        "from catboost import CatBoostClassifier\n",
        "from sklearn.feature_extraction.text import TfidfVectorizer\n",
        "from sklearn.model_selection import cross_val_score, StratifiedShuffleSplit, GridSearchCV\n",
        "from keras.models import Sequential\n",
        "from keras.layers import Embedding, GlobalMaxPool1D\n",
        "from tensorflow.keras.layers import Dense, Dropout\n",
        "from tensorflow.keras.layers import LSTM\n",
        "import pickle"
      ],
      "metadata": {
        "execution": {
          "iopub.status.busy": "2022-01-15T11:09:58.236907Z",
          "iopub.execute_input": "2022-01-15T11:09:58.237262Z",
          "iopub.status.idle": "2022-01-15T11:09:58.255288Z",
          "shell.execute_reply.started": "2022-01-15T11:09:58.237226Z",
          "shell.execute_reply": "2022-01-15T11:09:58.254146Z"
        },
        "trusted": true,
        "id": "VfH0uHwZ4mol",
        "colab": {
          "base_uri": "https://localhost:8080/"
        },
        "outputId": "ef6819d0-d4b0-49d1-b7b1-a6531a4b797e"
      },
      "execution_count": null,
      "outputs": [
        {
          "output_type": "stream",
          "name": "stderr",
          "text": [
            "/usr/local/lib/python3.10/dist-packages/sklearn/experimental/enable_hist_gradient_boosting.py:16: UserWarning: Since version 1.0, it is not needed to import enable_hist_gradient_boosting anymore. HistGradientBoostingClassifier and HistGradientBoostingRegressor are now stable and can be normally imported from sklearn.ensemble.\n",
            "  warnings.warn(\n"
          ]
        }
      ]
    },
    {
      "cell_type": "code",
      "source": [
        "from google.colab import drive\n",
        "drive.mount('/content/drive')"
      ],
      "metadata": {
        "id": "eSSqD8m4N0Z-",
        "colab": {
          "base_uri": "https://localhost:8080/"
        },
        "outputId": "d0ad5da6-5e5b-4dd7-814d-17d918a9968c"
      },
      "execution_count": null,
      "outputs": [
        {
          "output_type": "stream",
          "name": "stdout",
          "text": [
            "Mounted at /content/drive\n"
          ]
        }
      ]
    },
    {
      "cell_type": "code",
      "source": [
        "data=pd.read_csv(\"/content/drive/MyDrive/Colab Notebooks/fake_job_postings.csv\")\n",
        "data"
      ],
      "metadata": {
        "execution": {
          "iopub.status.busy": "2022-01-15T11:10:09.608872Z",
          "iopub.execute_input": "2022-01-15T11:10:09.60981Z",
          "iopub.status.idle": "2022-01-15T11:10:11.004828Z",
          "shell.execute_reply.started": "2022-01-15T11:10:09.609756Z",
          "shell.execute_reply": "2022-01-15T11:10:11.003982Z"
        },
        "trusted": true,
        "id": "QzGsZc1n4mon"
      },
      "execution_count": null,
      "outputs": []
    },
    {
      "cell_type": "code",
      "source": [
        "print(data.shape)\n",
        "print(data[\"fraudulent\"].value_counts())"
      ],
      "metadata": {
        "id": "ofixbhyE4moo",
        "colab": {
          "base_uri": "https://localhost:8080/"
        },
        "outputId": "01c79d3c-cf10-46e4-d708-153f56fa33f4"
      },
      "execution_count": null,
      "outputs": [
        {
          "output_type": "stream",
          "name": "stdout",
          "text": [
            "(17880, 18)\n",
            "0    17014\n",
            "1      866\n",
            "Name: fraudulent, dtype: int64\n"
          ]
        }
      ]
    },
    {
      "cell_type": "code",
      "source": [
        "data = data.replace(np.nan, '', regex=True)\n",
        "def standardize_text(df, text_field):\n",
        "    df2 = df.copy(deep=True)\n",
        "    df2[text_field] = df[text_field].str.replace(r\"http\\S+\", \"\", regex=True)\n",
        "    df2[text_field] = df[text_field].str.replace(r\"http\", \"\", regex=True)\n",
        "    df2[text_field] = df[text_field].str.replace(r\"@\\S+\", \"\", regex=True)\n",
        "    df2[text_field] = df[text_field].str.replace(r\"[^A-Za-z0-9(),!?@\\'\\`\\\"\\_\\n]\", \" \", regex=True)\n",
        "    df2[text_field] = df[text_field].str.replace(r\"@\", \"at\", regex=True)\n",
        "    df2[text_field] = df[text_field].str.lower()\n",
        "    return df2\n",
        "df_clean = standardize_text(data, \"description\")"
      ],
      "metadata": {
        "id": "5e0RWfjM4mop"
      },
      "execution_count": null,
      "outputs": []
    },
    {
      "cell_type": "code",
      "source": [
        "df_clean['text'] = df_clean[['title', 'department','company_profile','description','requirements',\n",
        "                     'benefits']].apply(lambda x: ' '.join(x), axis = 1)"
      ],
      "metadata": {
        "id": "OveuqWhl4moq"
      },
      "execution_count": null,
      "outputs": []
    },
    {
      "cell_type": "code",
      "source": [
        "tokenizer = RegexpTokenizer(r'\\w+')\n",
        "df_clean[\"tokens\"] = df_clean[\"text\"].apply(tokenizer.tokenize)\n",
        "nltk.download('wordnet')\n",
        "nltk.download('stopwords')"
      ],
      "metadata": {
        "id": "OnYvt1E64mor",
        "colab": {
          "base_uri": "https://localhost:8080/"
        },
        "outputId": "3d742cbf-4b7a-4e38-da7f-6643d2654888"
      },
      "execution_count": null,
      "outputs": [
        {
          "output_type": "stream",
          "name": "stderr",
          "text": [
            "[nltk_data] Downloading package wordnet to /root/nltk_data...\n",
            "[nltk_data]   Package wordnet is already up-to-date!\n",
            "[nltk_data] Downloading package stopwords to /root/nltk_data...\n",
            "[nltk_data]   Package stopwords is already up-to-date!\n"
          ]
        },
        {
          "output_type": "execute_result",
          "data": {
            "text/plain": [
              "True"
            ]
          },
          "metadata": {},
          "execution_count": 22
        }
      ]
    },
    {
      "cell_type": "code",
      "source": [
        "lemmatizer = WordNetLemmatizer()\n",
        "studentDfObj = df_clean[\"tokens\"]\n",
        "listOfDFRows = studentDfObj.to_numpy().tolist()\n",
        "len(listOfDFRows)"
      ],
      "metadata": {
        "id": "vYTQCCSl4mos",
        "colab": {
          "base_uri": "https://localhost:8080/"
        },
        "outputId": "ed63b5b6-e4eb-4921-db9d-674bcf7f0907"
      },
      "execution_count": null,
      "outputs": [
        {
          "output_type": "execute_result",
          "data": {
            "text/plain": [
              "17880"
            ]
          },
          "metadata": {},
          "execution_count": 23
        }
      ]
    },
    {
      "cell_type": "code",
      "source": [
        "from nltk.corpus import stopwords\n",
        "lemm_tokens = []\n",
        "lemms = []\n",
        "for i in range(len(listOfDFRows)):\n",
        "    for words in listOfDFRows[i]:\n",
        "        if words not in stopwords.words('english'):\n",
        "            lemmas = lemmatizer.lemmatize(words.lower(), pos='v')\n",
        "            lemms.append(lemmas)\n",
        "    lemm_tokens.append(lemms)\n",
        "    lemms = []\n",
        "a = lemm_tokens\n",
        "%store a"
      ],
      "metadata": {
        "id": "jWbrFraN4mot",
        "colab": {
          "base_uri": "https://localhost:8080/"
        },
        "outputId": "e1d8811a-aeee-4959-89b1-02ac3ebf0abe"
      },
      "execution_count": null,
      "outputs": [
        {
          "output_type": "stream",
          "name": "stdout",
          "text": [
            "Stored 'a' (list)\n"
          ]
        }
      ]
    },
    {
      "cell_type": "code",
      "source": [
        "%store -r a\n",
        "len(a)"
      ],
      "metadata": {
        "id": "8xZtS2IX4mou",
        "colab": {
          "base_uri": "https://localhost:8080/"
        },
        "outputId": "353d3c52-df53-414b-9a39-11c7720fbf38"
      },
      "execution_count": null,
      "outputs": [
        {
          "output_type": "execute_result",
          "data": {
            "text/plain": [
              "17880"
            ]
          },
          "metadata": {},
          "execution_count": 25
        }
      ]
    },
    {
      "cell_type": "code",
      "source": [
        "df_clean = df_clean.assign(lemm_tokens=a)"
      ],
      "metadata": {
        "id": "xjSt3BYp4mou"
      },
      "execution_count": null,
      "outputs": []
    },
    {
      "cell_type": "code",
      "source": [
        "y = df_clean['fraudulent']\n",
        "X = df_clean['lemm_tokens']\n",
        "X_train, X_test, y_train, y_test = train_test_split(X, y, test_size=0.2, random_state=100)"
      ],
      "metadata": {
        "id": "DzHf0QEp4mov"
      },
      "execution_count": null,
      "outputs": []
    },
    {
      "cell_type": "markdown",
      "source": [
        "## Balanced vs. Unbalanced data"
      ],
      "metadata": {
        "id": "_u-nzQQA4mov"
      }
    },
    {
      "cell_type": "markdown",
      "source": [
        "Use TFIdfVectorizer on dataframe"
      ],
      "metadata": {
        "id": "AQLwfF384mo2"
      }
    },
    {
      "cell_type": "code",
      "source": [
        "def dummy_fun(doc):\n",
        "    return doc\n",
        "tfidf = TfidfVectorizer(\n",
        "    analyzer='word',\n",
        "    tokenizer=dummy_fun,\n",
        "    preprocessor=dummy_fun,\n",
        "    token_pattern=None)\n",
        "tfidf.fit(X_train)\n",
        "X_train_tfidf = tfidf.transform(X_train)\n",
        "X_test_tfidf = tfidf.transform(X_test)\n",
        "print(X_train_tfidf.shape)\n",
        "print(X_test_tfidf.shape)"
      ],
      "metadata": {
        "id": "pY4bMpMK4mo3",
        "colab": {
          "base_uri": "https://localhost:8080/"
        },
        "outputId": "d4e59d83-85bb-4618-efdd-f8685dcda235"
      },
      "execution_count": null,
      "outputs": [
        {
          "output_type": "stream",
          "name": "stdout",
          "text": [
            "(14304, 87972)\n",
            "(3576, 87972)\n"
          ]
        }
      ]
    },
    {
      "cell_type": "markdown",
      "source": [
        "NearMiss for Balancing Data"
      ],
      "metadata": {
        "id": "GgYu-aEU4mo3"
      }
    },
    {
      "cell_type": "code",
      "source": [
        "print(\"Before Undersampling, counts of label '1': {}\".format(sum(y_train == 1)))\n",
        "print(\"Before Undersampling, counts of label '0': {} \\n\".format(sum(y_train == 0)))\n",
        "from imblearn.under_sampling import NearMiss\n",
        "nr = NearMiss()\n",
        "\n",
        "X_train_miss, y_train_miss = nr.fit_resample(X_train_tfidf, y_train.ravel())\n",
        "X_test_miss, y_test_miss = nr.fit_resample(X_test_tfidf, y_test.ravel())\n",
        "\n",
        "print('After Undersampling, the shape of train_X: {}'.format(X_train_miss.shape))\n",
        "print('After Undersampling, the shape of train_y: {} \\n'.format(y_train_miss.shape))\n",
        "print(\"After Undersampling, counts of label '1': {}\".format(sum(y_train_miss == 1)))\n",
        "print(\"After Undersampling, counts of label '0': {}\".format(sum(y_train_miss == 0)))"
      ],
      "metadata": {
        "id": "pI82PCT74mo4",
        "colab": {
          "base_uri": "https://localhost:8080/"
        },
        "outputId": "45d4e79a-1de3-4c1a-d552-c5445aa867dd"
      },
      "execution_count": null,
      "outputs": [
        {
          "output_type": "stream",
          "name": "stdout",
          "text": [
            "Before Undersampling, counts of label '1': 678\n",
            "Before Undersampling, counts of label '0': 13626 \n",
            "\n",
            "After Undersampling, the shape of train_X: (1356, 87972)\n",
            "After Undersampling, the shape of train_y: (1356,) \n",
            "\n",
            "After Undersampling, counts of label '1': 678\n",
            "After Undersampling, counts of label '0': 678\n"
          ]
        }
      ]
    },
    {
      "cell_type": "code",
      "source": [
        "sgd_clf = SGDClassifier(loss=\"hinge\", penalty=\"l2\", random_state=100, max_iter=1000)\n",
        "sgd_clf.fit(X_train_miss, y_train_miss)\n",
        "y_predicted_sgd_clf = sgd_clf.predict(X_test_miss)\n",
        "print(classification_report(y_test_miss, y_predicted_sgd_clf))"
      ],
      "metadata": {
        "id": "TUyNwtFP4mo4",
        "colab": {
          "base_uri": "https://localhost:8080/"
        },
        "outputId": "b892832b-4608-48ca-ef3b-440969e0fdc1"
      },
      "execution_count": null,
      "outputs": [
        {
          "output_type": "stream",
          "name": "stdout",
          "text": [
            "              precision    recall  f1-score   support\n",
            "\n",
            "           0       0.92      0.92      0.92       188\n",
            "           1       0.92      0.91      0.92       188\n",
            "\n",
            "    accuracy                           0.92       376\n",
            "   macro avg       0.92      0.92      0.92       376\n",
            "weighted avg       0.92      0.92      0.92       376\n",
            "\n"
          ]
        }
      ]
    },
    {
      "cell_type": "code",
      "source": [
        "print(\"ROC-AUC:\", roc_auc_score(y_predicted_sgd_clf,y_test_miss))\n",
        "print(\"Accuracy:\", accuracy_score(y_predicted_sgd_clf,y_test_miss))"
      ],
      "metadata": {
        "id": "cr6W8Ejw4mo5",
        "colab": {
          "base_uri": "https://localhost:8080/"
        },
        "outputId": "c92306d5-5172-407d-8934-2b7bd7b7b1f6"
      },
      "execution_count": null,
      "outputs": [
        {
          "output_type": "stream",
          "name": "stdout",
          "text": [
            "ROC-AUC: 0.9175650058003\n",
            "Accuracy: 0.9175531914893617\n"
          ]
        }
      ]
    },
    {
      "cell_type": "code",
      "source": [
        "clf_log = LogisticRegression(C=30.0, class_weight='balanced', solver='newton-cg',\n",
        "                         multi_class='multinomial', random_state=40)\n",
        "clf_log.fit(X_train_miss, y_train_miss)\n",
        "y_predicted_log = clf_log.predict(X_test_miss)\n",
        "\n",
        "print(classification_report(y_test_miss, y_predicted_log))"
      ],
      "metadata": {
        "id": "6yrxSaUt4mo5",
        "colab": {
          "base_uri": "https://localhost:8080/"
        },
        "outputId": "0c60997e-2f0d-4a5b-a39f-e43d047bb39c"
      },
      "execution_count": null,
      "outputs": [
        {
          "output_type": "stream",
          "name": "stdout",
          "text": [
            "              precision    recall  f1-score   support\n",
            "\n",
            "           0       0.91      0.93      0.92       188\n",
            "           1       0.92      0.91      0.92       188\n",
            "\n",
            "    accuracy                           0.92       376\n",
            "   macro avg       0.92      0.92      0.92       376\n",
            "weighted avg       0.92      0.92      0.92       376\n",
            "\n"
          ]
        }
      ]
    },
    {
      "cell_type": "code",
      "source": [
        "print(\"ROC-AUC:\", roc_auc_score(y_predicted_log,y_test_miss))\n",
        "print(\"Accuracy:\", accuracy_score(y_predicted_log,y_test_miss))"
      ],
      "metadata": {
        "id": "WTGFtfk04mo5",
        "colab": {
          "base_uri": "https://localhost:8080/"
        },
        "outputId": "6607b873-02da-4c0d-ecbf-235885c59ef7"
      },
      "execution_count": null,
      "outputs": [
        {
          "output_type": "stream",
          "name": "stdout",
          "text": [
            "ROC-AUC: 0.917659544361115\n",
            "Accuracy: 0.9175531914893617\n"
          ]
        }
      ]
    },
    {
      "cell_type": "markdown",
      "source": [
        "Use Word Embeddings on dataframe"
      ],
      "metadata": {
        "id": "E3GI1vqC4mo6"
      }
    },
    {
      "cell_type": "code",
      "source": [
        "from keras.preprocessing.text import Tokenizer\n",
        "tokenizer = Tokenizer(num_words=14727)\n",
        "tokenizer.fit_on_texts(X)\n",
        "train_wordemb = tokenizer.texts_to_sequences(X_train)\n",
        "test_wordemb = tokenizer.texts_to_sequences(X_test)\n",
        "vocab_size = len(tokenizer.word_index) + 1  # Adding 1 because of reserved 0 index"
      ],
      "metadata": {
        "id": "qxh5dgNw4mo6"
      },
      "execution_count": null,
      "outputs": []
    },
    {
      "cell_type": "code",
      "source": [
        "from keras.preprocessing.sequence import pad_sequences\n",
        "maxlen = 100\n",
        "\n",
        "train_wordemb = pad_sequences(train_wordemb, padding='post', maxlen=maxlen)\n",
        "test_wordemb = pad_sequences(test_wordemb, padding='post', maxlen=maxlen)"
      ],
      "metadata": {
        "id": "y8nCgUgw4mo6"
      },
      "execution_count": null,
      "outputs": []
    },
    {
      "cell_type": "code",
      "source": [
        "X_train_miss2, y_train_miss2 = nr.fit_resample(train_wordemb, y_train.ravel())\n",
        "X_test_miss2, y_test_miss2 = nr.fit_resample(test_wordemb, y_test.ravel())"
      ],
      "metadata": {
        "id": "G35naetj4mo6"
      },
      "execution_count": null,
      "outputs": []
    },
    {
      "cell_type": "code",
      "source": [
        "from keras.models import Sequential\n",
        "from keras import layers\n",
        "\n",
        "embedding_dim = 50\n",
        "\n",
        "model = Sequential()\n",
        "model.add(layers.Embedding(input_dim = vocab_size,\n",
        "                           output_dim=embedding_dim,\n",
        "                           input_length=100))\n",
        "model.add(layers.Flatten())\n",
        "model.add(layers.Dense(10, activation='relu'))\n",
        "model.add(layers.Dense(1, activation='sigmoid'))\n",
        "model.compile(optimizer='adam',\n",
        "              loss='binary_crossentropy',\n",
        "              metrics=['accuracy'])\n",
        "model.summary()"
      ],
      "metadata": {
        "id": "cSwEW-6t4mo7",
        "colab": {
          "base_uri": "https://localhost:8080/"
        },
        "outputId": "31b1b751-e2a8-4742-b049-e88f5c215e2f"
      },
      "execution_count": null,
      "outputs": [
        {
          "output_type": "stream",
          "name": "stdout",
          "text": [
            "Model: \"sequential\"\n",
            "_________________________________________________________________\n",
            " Layer (type)                Output Shape              Param #   \n",
            "=================================================================\n",
            " embedding (Embedding)       (None, 100, 50)           4967700   \n",
            "                                                                 \n",
            " flatten (Flatten)           (None, 5000)              0         \n",
            "                                                                 \n",
            " dense (Dense)               (None, 10)                50010     \n",
            "                                                                 \n",
            " dense_1 (Dense)             (None, 1)                 11        \n",
            "                                                                 \n",
            "=================================================================\n",
            "Total params: 5017721 (19.14 MB)\n",
            "Trainable params: 5017721 (19.14 MB)\n",
            "Non-trainable params: 0 (0.00 Byte)\n",
            "_________________________________________________________________\n"
          ]
        }
      ]
    },
    {
      "cell_type": "code",
      "source": [
        "def plot_history(history):\n",
        "    acc = history.history['accuracy']\n",
        "    val_acc = history.history['val_accuracy']\n",
        "    loss = history.history['loss']\n",
        "    val_loss = history.history['val_loss']\n",
        "    x = range(1, len(acc) + 1)\n",
        "\n",
        "    plt.figure(figsize=(12, 5))\n",
        "    plt.subplot(1, 2, 1)\n",
        "    plt.plot(x, acc, 'b', label='Training acc')\n",
        "    plt.plot(x, val_acc, 'r', label='Validation acc')\n",
        "    plt.title('Training and validation accuracy')\n",
        "    plt.legend()\n",
        "    plt.subplot(1, 2, 2)\n",
        "    plt.plot(x, loss, 'b', label='Training loss')\n",
        "    plt.plot(x, val_loss, 'r', label='Validation loss')\n",
        "    plt.title('Training and validation loss')\n",
        "    plt.legend()\n",
        "\n",
        "history = model.fit(X_train_miss2, y_train_miss2, epochs=50, verbose=False,\n",
        "                    validation_data=(X_test_miss2, y_test_miss2), batch_size=50)\n",
        "loss, accuracy = model.evaluate(X_train_miss2, y_train_miss2, verbose=False)\n",
        "print(\"Training Accuracy: {:.4f}\".format(accuracy))\n",
        "loss, accuracy = model.evaluate(X_test_miss2, y_test_miss2, verbose=False)\n",
        "print(\"Testing Accuracy:  {:.4f}\".format(accuracy))\n",
        "plot_history(history)"
      ],
      "metadata": {
        "id": "QaZoKkPU4mo7",
        "colab": {
          "base_uri": "https://localhost:8080/",
          "height": 459
        },
        "outputId": "ec1a93bd-49e5-484e-9483-12ae703f14a0"
      },
      "execution_count": null,
      "outputs": [
        {
          "output_type": "stream",
          "name": "stdout",
          "text": [
            "Training Accuracy: 1.0000\n",
            "Testing Accuracy:  0.9096\n"
          ]
        },
        {
          "output_type": "display_data",
          "data": {
            "text/plain": [
              "<Figure size 1200x500 with 2 Axes>"
            ],
            "image/png": "[encoded data removed]"
          },
          "metadata": {}
        }
      ]
    },
    {
      "cell_type": "code",
      "source": [
        "model1 = Sequential()\n",
        "model1.add(layers.Embedding(input_dim=vocab_size,\n",
        "                           output_dim=embedding_dim,\n",
        "                           input_length=maxlen))\n",
        "model1.add(layers.GlobalMaxPool1D())\n",
        "model1.add(layers.Dense(10, activation='relu'))\n",
        "model1.add(layers.Dense(1, activation='sigmoid'))\n",
        "model1.compile(optimizer='adam',\n",
        "              loss='binary_crossentropy',\n",
        "              metrics=['accuracy'])\n",
        "model1.summary()"
      ],
      "metadata": {
        "id": "KnKqhg-i4mo7",
        "colab": {
          "base_uri": "https://localhost:8080/"
        },
        "outputId": "dd95e2ca-cbb7-4ee1-f8f9-90218d2868b0"
      },
      "execution_count": null,
      "outputs": [
        {
          "output_type": "stream",
          "name": "stdout",
          "text": [
            "Model: \"sequential_1\"\n",
            "_________________________________________________________________\n",
            " Layer (type)                Output Shape              Param #   \n",
            "=================================================================\n",
            " embedding_1 (Embedding)     (None, 100, 50)           4967700   \n",
            "                                                                 \n",
            " global_max_pooling1d (Glob  (None, 50)                0         \n",
            " alMaxPooling1D)                                                 \n",
            "                                                                 \n",
            " dense_2 (Dense)             (None, 10)                510       \n",
            "                                                                 \n",
            " dense_3 (Dense)             (None, 1)                 11        \n",
            "                                                                 \n",
            "=================================================================\n",
            "Total params: 4968221 (18.95 MB)\n",
            "Trainable params: 4968221 (18.95 MB)\n",
            "Non-trainable params: 0 (0.00 Byte)\n",
            "_________________________________________________________________\n"
          ]
        }
      ]
    },
    {
      "cell_type": "code",
      "source": [
        "history1 = model1.fit(X_train_miss2, y_train_miss2, epochs=5, verbose=False,\n",
        "                    validation_data=(X_test_miss2, y_test_miss2), batch_size=10)\n",
        "loss, accuracy = model1.evaluate(X_train_miss2, y_train_miss2, verbose=False)\n",
        "print(\"Training Accuracy: {:.4f}\".format(accuracy))\n",
        "loss, accuracy = model1.evaluate(X_test_miss2, y_test_miss2, verbose=False)\n",
        "print(\"Testing Accuracy:  {:.4f}\".format(accuracy))\n",
        "plot_history(history1)"
      ],
      "metadata": {
        "id": "TIU0-SpF4mo8",
        "colab": {
          "base_uri": "https://localhost:8080/",
          "height": 459
        },
        "outputId": "2a02d444-cfc0-42b1-97cf-39011439fee3"
      },
      "execution_count": null,
      "outputs": [
        {
          "output_type": "stream",
          "name": "stdout",
          "text": [
            "Training Accuracy: 0.9948\n",
            "Testing Accuracy:  0.9229\n"
          ]
        },
        {
          "output_type": "display_data",
          "data": {
            "text/plain": [
              "<Figure size 1200x500 with 2 Axes>"
            ],
            "image/png": "[encoded data removed]"
          },
          "metadata": {}
        }
      ]
    },
    {
      "cell_type": "markdown",
      "source": [
        "Found, that the method TFIdfVectorizer gives better results than Tokenizer"
      ],
      "metadata": {
        "id": "FJ7wEzFC4mo8"
      }
    },
    {
      "cell_type": "markdown",
      "source": [
        "# use a TFIdfVectorizer method with unbalanced data"
      ],
      "metadata": {
        "id": "C1wJ-usH4mo8"
      }
    },
    {
      "cell_type": "code",
      "source": [
        "sgd_clf2 = SGDClassifier(loss=\"hinge\", penalty=\"l2\", random_state=100, max_iter=1000)\n",
        "sgd_clf2.fit(X_train_tfidf, y_train)\n",
        "y_predicted_sgd_clf2 = sgd_clf2.predict(X_test_tfidf)\n",
        "print(classification_report(y_test, y_predicted_sgd_clf2))"
      ],
      "metadata": {
        "id": "SWCJFXN64mo8",
        "colab": {
          "base_uri": "https://localhost:8080/"
        },
        "outputId": "16141a97-7e58-4950-e407-e7a066f9d10e"
      },
      "execution_count": null,
      "outputs": [
        {
          "output_type": "stream",
          "name": "stdout",
          "text": [
            "              precision    recall  f1-score   support\n",
            "\n",
            "           0       0.98      1.00      0.99      3388\n",
            "           1       1.00      0.57      0.73       188\n",
            "\n",
            "    accuracy                           0.98      3576\n",
            "   macro avg       0.99      0.79      0.86      3576\n",
            "weighted avg       0.98      0.98      0.97      3576\n",
            "\n"
          ]
        }
      ]
    },
    {
      "cell_type": "code",
      "source": [
        "print(\"ROC-AUC:\", roc_auc_score(y_predicted_sgd_clf2,y_test))\n",
        "print(\"Accuracy:\", accuracy_score(y_predicted_sgd_clf2,y_test))"
      ],
      "metadata": {
        "id": "qSp-Wzph4mo9",
        "colab": {
          "base_uri": "https://localhost:8080/"
        },
        "outputId": "08128ffd-6b53-4cb8-e783-504cd30dc40d"
      },
      "execution_count": null,
      "outputs": [
        {
          "output_type": "stream",
          "name": "stdout",
          "text": [
            "ROC-AUC: 0.9884659746251442\n",
            "Accuracy: 0.9776286353467561\n"
          ]
        }
      ]
    },
    {
      "cell_type": "code",
      "source": [
        "clf_log2 = LogisticRegression(C=30.0, class_weight='balanced', solver='newton-cg',\n",
        "                         multi_class='multinomial', random_state=40)\n",
        "clf_log2.fit(X_train_tfidf, y_train)\n",
        "y_predicted_log2 = clf_log2.predict(X_test_tfidf)\n",
        "\n",
        "print(classification_report(y_test, y_predicted_log2))"
      ],
      "metadata": {
        "id": "z06KJu1e4mo9",
        "colab": {
          "base_uri": "https://localhost:8080/"
        },
        "outputId": "d9533eca-f544-4942-b71c-117d825b3f32"
      },
      "execution_count": null,
      "outputs": [
        {
          "output_type": "stream",
          "name": "stdout",
          "text": [
            "              precision    recall  f1-score   support\n",
            "\n",
            "           0       0.99      1.00      0.99      3388\n",
            "           1       0.92      0.78      0.85       188\n",
            "\n",
            "    accuracy                           0.99      3576\n",
            "   macro avg       0.96      0.89      0.92      3576\n",
            "weighted avg       0.98      0.99      0.98      3576\n",
            "\n"
          ]
        }
      ]
    },
    {
      "cell_type": "code",
      "source": [
        "print(\"ROC-AUC:\", roc_auc_score(y_predicted_log2,y_test))\n",
        "print(\"Accuracy:\", accuracy_score(y_predicted_log2,y_test))"
      ],
      "metadata": {
        "id": "i00jp9Yf4mo9",
        "colab": {
          "base_uri": "https://localhost:8080/"
        },
        "outputId": "d379efad-93c9-4e66-97b5-7a166b61733b"
      },
      "execution_count": null,
      "outputs": [
        {
          "output_type": "stream",
          "name": "stdout",
          "text": [
            "ROC-AUC: 0.9562647362521465\n",
            "Accuracy: 0.985178970917226\n"
          ]
        }
      ]
    },
    {
      "cell_type": "markdown",
      "source": [
        "The greatest accuracy and ROC-AUC metrics was in the model SGDClassifier (98% ROC-AUC, 98% accuracy)"
      ],
      "metadata": {
        "id": "OBoKuBfI4mo-"
      }
    },
    {
      "cell_type": "code",
      "source": [
        "with open('model.pickle', 'wb') as model_file:\n",
        "    pickle.dump(model, model_file)\n",
        "\n",
        "with open('model.pickle', 'rb') as model_file:\n",
        "    loaded_model = pickle.load(model_file)"
      ],
      "metadata": {
        "id": "Xu0NX-I_HfO4"
      },
      "execution_count": null,
      "outputs": []
    },
    {
      "cell_type": "code",
      "source": [
        "# predictions = loaded_model.predict(X_test_miss2)\n",
        "\n",
        "# # Tampilkan hasil prediksi\n",
        "# for i in range(len(predictions)):\n",
        "#     print(f\"Prediksi untuk contoh {i + 1}: {predictions[i, 0]}\")  # Output probabilitas dengan aktivasi sigmoid\n",
        "#     if predictions[i, 0] >= 0.5:\n",
        "#         print(\"Prediksi: Pekerjaan Asli\")\n",
        "#     else:\n",
        "#         print(\"Prediksi: Pekerjaan Bukan Asli\")\n",
        "#     print(\"\\n\")\n",
        "#\n",
        "#-----------------------------------------------------------------------------------------------------------------------------------------------------\n",
        "user_input = input(\"Masukkan pekerjaan yang ingin diprediksi: \")\n",
        "\n",
        "user_input_sequences = tokenizer.texts_to_sequences([user_input])\n",
        "user_input_padded = pad_sequences(user_input_sequences, padding='post', maxlen=maxlen)\n",
        "\n",
        "prediction = loaded_model.predict(user_input_padded)\n",
        "\n",
        "# Tampilkan hasil prediksi\n",
        "print(f\"Probabilitas Pekerjaan Asli: {prediction[0, 0]}\")  # Output probabilitas dengan aktivasi sigmoid\n",
        "\n",
        "if prediction[0, 0] >= 0.05:\n",
        "    print(\"Prediksi: Pekerjaan Palsu\")\n",
        "else:\n",
        "    print(\"Prediksi: Pekerjaan Asli\")"
      ],
      "metadata": {
        "colab": {
          "base_uri": "https://localhost:8080/",
          "height": 425
        },
        "id": "Da1pbnxVjIS8",
        "outputId": "c6b722cb-9383-40a7-9d5a-2646c7780109"
      },
      "execution_count": null,
      "outputs": [
        {
          "output_type": "error",
          "ename": "KeyboardInterrupt",
          "evalue": "ignored",
          "traceback": [
            "\u001b[0;31m---------------------------------------------------------------------------\u001b[0m",
            "\u001b[0;31mKeyboardInterrupt\u001b[0m                         Traceback (most recent call last)",
            "\u001b[0;32m<ipython-input-67-1c5069e7ab7c>\u001b[0m in \u001b[0;36m<cell line: 13>\u001b[0;34m()\u001b[0m\n\u001b[1;32m     11\u001b[0m \u001b[0;31m#\u001b[0m\u001b[0;34m\u001b[0m\u001b[0;34m\u001b[0m\u001b[0m\n\u001b[1;32m     12\u001b[0m \u001b[0;31m#-----------------------------------------------------------------------------------------------------------------------------------------------------\u001b[0m\u001b[0;34m\u001b[0m\u001b[0;34m\u001b[0m\u001b[0m\n\u001b[0;32m---> 13\u001b[0;31m \u001b[0muser_input\u001b[0m \u001b[0;34m=\u001b[0m \u001b[0minput\u001b[0m\u001b[0;34m(\u001b[0m\u001b[0;34m\"Masukkan pekerjaan yang ingin diprediksi: \"\u001b[0m\u001b[0;34m)\u001b[0m\u001b[0;34m\u001b[0m\u001b[0;34m\u001b[0m\u001b[0m\n\u001b[0m\u001b[1;32m     14\u001b[0m \u001b[0;34m\u001b[0m\u001b[0m\n\u001b[1;32m     15\u001b[0m \u001b[0muser_input_sequences\u001b[0m \u001b[0;34m=\u001b[0m \u001b[0mtokenizer\u001b[0m\u001b[0;34m.\u001b[0m\u001b[0mtexts_to_sequences\u001b[0m\u001b[0;34m(\u001b[0m\u001b[0;34m[\u001b[0m\u001b[0muser_input\u001b[0m\u001b[0;34m]\u001b[0m\u001b[0;34m)\u001b[0m\u001b[0;34m\u001b[0m\u001b[0;34m\u001b[0m\u001b[0m\n",
            "\u001b[0;32m/usr/local/lib/python3.10/dist-packages/ipykernel/kernelbase.py\u001b[0m in \u001b[0;36mraw_input\u001b[0;34m(self, prompt)\u001b[0m\n\u001b[1;32m    849\u001b[0m                 \u001b[0;34m\"raw_input was called, but this frontend does not support input requests.\"\u001b[0m\u001b[0;34m\u001b[0m\u001b[0;34m\u001b[0m\u001b[0m\n\u001b[1;32m    850\u001b[0m             )\n\u001b[0;32m--> 851\u001b[0;31m         return self._input_request(str(prompt),\n\u001b[0m\u001b[1;32m    852\u001b[0m             \u001b[0mself\u001b[0m\u001b[0;34m.\u001b[0m\u001b[0m_parent_ident\u001b[0m\u001b[0;34m,\u001b[0m\u001b[0;34m\u001b[0m\u001b[0;34m\u001b[0m\u001b[0m\n\u001b[1;32m    853\u001b[0m             \u001b[0mself\u001b[0m\u001b[0;34m.\u001b[0m\u001b[0m_parent_header\u001b[0m\u001b[0;34m,\u001b[0m\u001b[0;34m\u001b[0m\u001b[0;34m\u001b[0m\u001b[0m\n",
            "\u001b[0;32m/usr/local/lib/python3.10/dist-packages/ipykernel/kernelbase.py\u001b[0m in \u001b[0;36m_input_request\u001b[0;34m(self, prompt, ident, parent, password)\u001b[0m\n\u001b[1;32m    893\u001b[0m             \u001b[0;32mexcept\u001b[0m \u001b[0mKeyboardInterrupt\u001b[0m\u001b[0;34m:\u001b[0m\u001b[0;34m\u001b[0m\u001b[0;34m\u001b[0m\u001b[0m\n\u001b[1;32m    894\u001b[0m                 \u001b[0;31m# re-raise KeyboardInterrupt, to truncate traceback\u001b[0m\u001b[0;34m\u001b[0m\u001b[0;34m\u001b[0m\u001b[0m\n\u001b[0;32m--> 895\u001b[0;31m                 \u001b[0;32mraise\u001b[0m \u001b[0mKeyboardInterrupt\u001b[0m\u001b[0;34m(\u001b[0m\u001b[0;34m\"Interrupted by user\"\u001b[0m\u001b[0;34m)\u001b[0m \u001b[0;32mfrom\u001b[0m \u001b[0;32mNone\u001b[0m\u001b[0;34m\u001b[0m\u001b[0;34m\u001b[0m\u001b[0m\n\u001b[0m\u001b[1;32m    896\u001b[0m             \u001b[0;32mexcept\u001b[0m \u001b[0mException\u001b[0m \u001b[0;32mas\u001b[0m \u001b[0me\u001b[0m\u001b[0;34m:\u001b[0m\u001b[0;34m\u001b[0m\u001b[0;34m\u001b[0m\u001b[0m\n\u001b[1;32m    897\u001b[0m                 \u001b[0mself\u001b[0m\u001b[0;34m.\u001b[0m\u001b[0mlog\u001b[0m\u001b[0;34m.\u001b[0m\u001b[0mwarning\u001b[0m\u001b[0;34m(\u001b[0m\u001b[0;34m\"Invalid Message:\"\u001b[0m\u001b[0;34m,\u001b[0m \u001b[0mexc_info\u001b[0m\u001b[0;34m=\u001b[0m\u001b[0;32mTrue\u001b[0m\u001b[0;34m)\u001b[0m\u001b[0;34m\u001b[0m\u001b[0;34m\u001b[0m\u001b[0m\n",
            "\u001b[0;31mKeyboardInterrupt\u001b[0m: Interrupted by user"
          ]
        }
      ]
    }
  ]
}